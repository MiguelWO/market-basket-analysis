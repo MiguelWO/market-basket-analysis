{
 "cells": [
  {
   "cell_type": "code",
   "execution_count": 1,
   "metadata": {
    "collapsed": true
   },
   "outputs": [],
   "source": [
    "import numpy as np\n",
    "import pandas as pd\n",
    "import matplotlib.pyplot as plt\n",
    "import seaborn as sns\n",
    "import os"
   ]
  },
  {
   "cell_type": "code",
   "execution_count": 2,
   "outputs": [
    {
     "data": {
      "text/plain": "   InvoiceNo StockCode                          Description  Quantity  \\\n0     536365    85123A   WHITE HANGING HEART T-LIGHT HOLDER         6   \n1     536365     71053                  WHITE METAL LANTERN         6   \n2     536365    84406B       CREAM CUPID HEARTS COAT HANGER         8   \n3     536365    84029G  KNITTED UNION FLAG HOT WATER BOTTLE         6   \n4     536365    84029E       RED WOOLLY HOTTIE WHITE HEART.         6   \n\n           InvoiceDate  UnitPrice  CustomerID         Country        Date  \\\n0  2010-12-01 08:26:00       2.55     17850.0  United Kingdom  2010-12-01   \n1  2010-12-01 08:26:00       3.39     17850.0  United Kingdom  2010-12-01   \n2  2010-12-01 08:26:00       2.75     17850.0  United Kingdom  2010-12-01   \n3  2010-12-01 08:26:00       3.39     17850.0  United Kingdom  2010-12-01   \n4  2010-12-01 08:26:00       3.39     17850.0  United Kingdom  2010-12-01   \n\n       Time  Hour  DayOfWeek  Month  Value  \n0  08:26:00     8  Wednesday     12  15.30  \n1  08:26:00     8  Wednesday     12  20.34  \n2  08:26:00     8  Wednesday     12  22.00  \n3  08:26:00     8  Wednesday     12  20.34  \n4  08:26:00     8  Wednesday     12  20.34  ",
      "text/html": "<div>\n<style scoped>\n    .dataframe tbody tr th:only-of-type {\n        vertical-align: middle;\n    }\n\n    .dataframe tbody tr th {\n        vertical-align: top;\n    }\n\n    .dataframe thead th {\n        text-align: right;\n    }\n</style>\n<table border=\"1\" class=\"dataframe\">\n  <thead>\n    <tr style=\"text-align: right;\">\n      <th></th>\n      <th>InvoiceNo</th>\n      <th>StockCode</th>\n      <th>Description</th>\n      <th>Quantity</th>\n      <th>InvoiceDate</th>\n      <th>UnitPrice</th>\n      <th>CustomerID</th>\n      <th>Country</th>\n      <th>Date</th>\n      <th>Time</th>\n      <th>Hour</th>\n      <th>DayOfWeek</th>\n      <th>Month</th>\n      <th>Value</th>\n    </tr>\n  </thead>\n  <tbody>\n    <tr>\n      <th>0</th>\n      <td>536365</td>\n      <td>85123A</td>\n      <td>WHITE HANGING HEART T-LIGHT HOLDER</td>\n      <td>6</td>\n      <td>2010-12-01 08:26:00</td>\n      <td>2.55</td>\n      <td>17850.0</td>\n      <td>United Kingdom</td>\n      <td>2010-12-01</td>\n      <td>08:26:00</td>\n      <td>8</td>\n      <td>Wednesday</td>\n      <td>12</td>\n      <td>15.30</td>\n    </tr>\n    <tr>\n      <th>1</th>\n      <td>536365</td>\n      <td>71053</td>\n      <td>WHITE METAL LANTERN</td>\n      <td>6</td>\n      <td>2010-12-01 08:26:00</td>\n      <td>3.39</td>\n      <td>17850.0</td>\n      <td>United Kingdom</td>\n      <td>2010-12-01</td>\n      <td>08:26:00</td>\n      <td>8</td>\n      <td>Wednesday</td>\n      <td>12</td>\n      <td>20.34</td>\n    </tr>\n    <tr>\n      <th>2</th>\n      <td>536365</td>\n      <td>84406B</td>\n      <td>CREAM CUPID HEARTS COAT HANGER</td>\n      <td>8</td>\n      <td>2010-12-01 08:26:00</td>\n      <td>2.75</td>\n      <td>17850.0</td>\n      <td>United Kingdom</td>\n      <td>2010-12-01</td>\n      <td>08:26:00</td>\n      <td>8</td>\n      <td>Wednesday</td>\n      <td>12</td>\n      <td>22.00</td>\n    </tr>\n    <tr>\n      <th>3</th>\n      <td>536365</td>\n      <td>84029G</td>\n      <td>KNITTED UNION FLAG HOT WATER BOTTLE</td>\n      <td>6</td>\n      <td>2010-12-01 08:26:00</td>\n      <td>3.39</td>\n      <td>17850.0</td>\n      <td>United Kingdom</td>\n      <td>2010-12-01</td>\n      <td>08:26:00</td>\n      <td>8</td>\n      <td>Wednesday</td>\n      <td>12</td>\n      <td>20.34</td>\n    </tr>\n    <tr>\n      <th>4</th>\n      <td>536365</td>\n      <td>84029E</td>\n      <td>RED WOOLLY HOTTIE WHITE HEART.</td>\n      <td>6</td>\n      <td>2010-12-01 08:26:00</td>\n      <td>3.39</td>\n      <td>17850.0</td>\n      <td>United Kingdom</td>\n      <td>2010-12-01</td>\n      <td>08:26:00</td>\n      <td>8</td>\n      <td>Wednesday</td>\n      <td>12</td>\n      <td>20.34</td>\n    </tr>\n  </tbody>\n</table>\n</div>"
     },
     "execution_count": 2,
     "metadata": {},
     "output_type": "execute_result"
    }
   ],
   "source": [
    "# Importing the dataset\n",
    "df = pd.read_csv('./data/retail_clean.csv')\n",
    "df.head()"
   ],
   "metadata": {
    "collapsed": false
   }
  },
  {
   "cell_type": "code",
   "execution_count": 3,
   "outputs": [
    {
     "data": {
      "text/plain": "(528140, 14)"
     },
     "execution_count": 3,
     "metadata": {},
     "output_type": "execute_result"
    }
   ],
   "source": [
    "# Checking the shape of the dataset\n",
    "df.shape"
   ],
   "metadata": {
    "collapsed": false
   }
  },
  {
   "cell_type": "code",
   "execution_count": 4,
   "outputs": [
    {
     "name": "stdout",
     "output_type": "stream",
     "text": [
      "<class 'pandas.core.frame.DataFrame'>\n",
      "RangeIndex: 528140 entries, 0 to 528139\n",
      "Data columns (total 14 columns):\n",
      " #   Column       Non-Null Count   Dtype  \n",
      "---  ------       --------------   -----  \n",
      " 0   InvoiceNo    528140 non-null  int64  \n",
      " 1   StockCode    528140 non-null  object \n",
      " 2   Description  528140 non-null  object \n",
      " 3   Quantity     528140 non-null  int64  \n",
      " 4   InvoiceDate  528140 non-null  object \n",
      " 5   UnitPrice    528140 non-null  float64\n",
      " 6   CustomerID   396370 non-null  float64\n",
      " 7   Country      528140 non-null  object \n",
      " 8   Date         528140 non-null  object \n",
      " 9   Time         528140 non-null  object \n",
      " 10  Hour         528140 non-null  int64  \n",
      " 11  DayOfWeek    528140 non-null  object \n",
      " 12  Month        528140 non-null  int64  \n",
      " 13  Value        528140 non-null  float64\n",
      "dtypes: float64(3), int64(4), object(7)\n",
      "memory usage: 56.4+ MB\n"
     ]
    }
   ],
   "source": [
    "# Checking the info of the dataset\n",
    "df.info()"
   ],
   "metadata": {
    "collapsed": false
   }
  },
  {
   "cell_type": "markdown",
   "source": [
    "# Create the Rating Matrix"
   ],
   "metadata": {
    "collapsed": false
   }
  },
  {
   "cell_type": "code",
   "execution_count": 5,
   "outputs": [
    {
     "data": {
      "text/plain": "517455"
     },
     "execution_count": 5,
     "metadata": {},
     "output_type": "execute_result"
    }
   ],
   "source": [
    "# Create a unique identifier by combining 'InvoiceNo' and 'Description'\n",
    "df['InNo_Desc'] = df['InvoiceNo'].astype('str') + '_' + df['Description']\n",
    "\n",
    "# Filter out duplicates based on the unique identifier and drop the identifier column\n",
    "df = df.drop_duplicates(subset=['InNo_Desc']).drop('InNo_Desc', axis=1)\n",
    "\n",
    "len(df)"
   ],
   "metadata": {
    "collapsed": false
   }
  },
  {
   "cell_type": "code",
   "execution_count": 12,
   "outputs": [
    {
     "data": {
      "text/plain": "<19793x4008 sparse matrix of type '<class 'numpy.float64'>'\n\twith 517455 stored elements in Compressed Sparse Row format>"
     },
     "execution_count": 12,
     "metadata": {},
     "output_type": "execute_result"
    }
   ],
   "source": [
    "# Create the Rating Matrix\n",
    "from scipy.sparse import csr_matrix\n",
    "\n",
    "# Create a pivot table with 'CustomerID' as the index and 'Description' as the columns\n",
    "# Fill the missing values with 0\n",
    "# Convert the pivot table into a sparse matrix\n",
    "\n",
    "df_pivot = df.pivot(index='InvoiceNo', columns='Description', values='Quantity').fillna(0)\n",
    "df_pivot_sparse = csr_matrix(df_pivot.values)\n",
    "\n",
    "df_pivot_sparse"
   ],
   "metadata": {
    "collapsed": false
   }
  },
  {
   "cell_type": "code",
   "execution_count": 8,
   "outputs": [
    {
     "data": {
      "text/plain": "(19793, 4008)"
     },
     "execution_count": 8,
     "metadata": {},
     "output_type": "execute_result"
    }
   ],
   "source": [
    "df_pivot.shape"
   ],
   "metadata": {
    "collapsed": false
   }
  },
  {
   "cell_type": "code",
   "execution_count": 9,
   "outputs": [
    {
     "name": "stderr",
     "output_type": "stream",
     "text": [
      "C:\\Users\\wmigu\\AppData\\Local\\Temp\\ipykernel_18952\\2883082651.py:4: SettingWithCopyWarning: \n",
      "A value is trying to be set on a copy of a slice from a DataFrame.\n",
      "Try using .loc[row_indexer,col_indexer] = value instead\n",
      "\n",
      "See the caveats in the documentation: https://pandas.pydata.org/pandas-docs/stable/user_guide/indexing.html#returning-a-view-versus-a-copy\n",
      "  ratings_matrix['value'] = 1\n"
     ]
    },
    {
     "data": {
      "text/plain": "<19793x4008 sparse matrix of type '<class 'numpy.float64'>'\n\twith 517455 stored elements in Compressed Sparse Row format>"
     },
     "execution_count": 9,
     "metadata": {},
     "output_type": "execute_result"
    }
   ],
   "source": [
    "ratings_matrix = df[['InvoiceNo', 'Description']]\n",
    "\n",
    "# Add a column of 1s\n",
    "ratings_matrix['value'] = 1\n",
    "\n",
    "# Spread into user-item format\n",
    "ratings_matrix = ratings_matrix.pivot(index='InvoiceNo', columns='Description', values='value').fillna(0)\n",
    "\n",
    "# Convert to matrix\n",
    "ratings_matrix = csr_matrix(ratings_matrix.values)\n",
    "\n",
    "ratings_matrix"
   ],
   "metadata": {
    "collapsed": false
   }
  },
  {
   "cell_type": "code",
   "execution_count": 10,
   "outputs": [
    {
     "data": {
      "text/plain": "(19793, 4008)"
     },
     "execution_count": 10,
     "metadata": {},
     "output_type": "execute_result"
    }
   ],
   "source": [
    "ratings_matrix.shape"
   ],
   "metadata": {
    "collapsed": false
   }
  },
  {
   "cell_type": "markdown",
   "source": [
    "# Evaluation Scheme and Model Validation"
   ],
   "metadata": {
    "collapsed": false
   }
  },
  {
   "cell_type": "code",
   "execution_count": 38,
   "outputs": [],
   "source": [
    "# Import the required functions\n",
    "from sklearn.model_selection import train_test_split\n",
    "from sklearn.metrics import mean_squared_error\n",
    "from math import sqrt\n"
   ],
   "metadata": {
    "collapsed": false
   }
  },
  {
   "cell_type": "code",
   "execution_count": 39,
   "outputs": [],
   "source": [
    "# Create training and test sets\n",
    "train, test = train_test_split(ratings_matrix, test_size=0.2, random_state=42)"
   ],
   "metadata": {
    "collapsed": false
   }
  },
  {
   "cell_type": "code",
   "execution_count": 40,
   "outputs": [
    {
     "data": {
      "text/plain": "((15834, 4008), (3959, 4008))"
     },
     "execution_count": 40,
     "metadata": {},
     "output_type": "execute_result"
    }
   ],
   "source": [
    "# Check the shapes of the resultant DataFrames\n",
    "train.shape, test.shape"
   ],
   "metadata": {
    "collapsed": false
   }
  },
  {
   "cell_type": "code",
   "execution_count": 41,
   "outputs": [],
   "source": [
    "# Import the required functions\n",
    "from sklearn.metrics.pairwise import cosine_similarity"
   ],
   "metadata": {
    "collapsed": false
   }
  },
  {
   "cell_type": "code",
   "execution_count": 42,
   "outputs": [
    {
     "data": {
      "text/plain": "<4008x4008 sparse matrix of type '<class 'numpy.float64'>'\n\twith 7110855 stored elements in Compressed Sparse Row format>"
     },
     "execution_count": 42,
     "metadata": {},
     "output_type": "execute_result"
    }
   ],
   "source": [
    "# Create the item-item similarity matrix\n",
    "item_similarity = cosine_similarity(X=train.T, dense_output=False)\n",
    "item_similarity"
   ],
   "metadata": {
    "collapsed": false
   }
  },
  {
   "cell_type": "code",
   "execution_count": 43,
   "outputs": [
    {
     "data": {
      "text/plain": "(4008, 4008)"
     },
     "execution_count": 43,
     "metadata": {},
     "output_type": "execute_result"
    }
   ],
   "source": [
    "# Check the shape of the item-item similarity matrix\n",
    "item_similarity.shape"
   ],
   "metadata": {
    "collapsed": false
   }
  },
  {
   "cell_type": "code",
   "execution_count": 44,
   "outputs": [
    {
     "data": {
      "text/plain": "<15834x15834 sparse matrix of type '<class 'numpy.float64'>'\n\twith 58666366 stored elements in Compressed Sparse Row format>"
     },
     "execution_count": 44,
     "metadata": {},
     "output_type": "execute_result"
    }
   ],
   "source": [
    "# Create the user-user similarity matrix\n",
    "user_similarity = cosine_similarity(X=train, dense_output=False)\n",
    "user_similarity"
   ],
   "metadata": {
    "collapsed": false
   }
  },
  {
   "cell_type": "code",
   "execution_count": 45,
   "outputs": [
    {
     "data": {
      "text/plain": "(15834, 15834)"
     },
     "execution_count": 45,
     "metadata": {},
     "output_type": "execute_result"
    }
   ],
   "source": [
    "# Check the shape of the user-user similarity matrix\n",
    "user_similarity.shape"
   ],
   "metadata": {
    "collapsed": false
   }
  },
  {
   "cell_type": "markdown",
   "source": [
    "# Estimate the Models"
   ],
   "metadata": {
    "collapsed": false
   }
  },
  {
   "cell_type": "code",
   "execution_count": 46,
   "outputs": [],
   "source": [
    "# Import the required functions\n",
    "from scipy.sparse.linalg import svds"
   ],
   "metadata": {
    "collapsed": false
   }
  },
  {
   "cell_type": "code",
   "execution_count": 47,
   "outputs": [],
   "source": [
    "# Create the ratings matrix\n",
    "ratings_matrix = train.copy()"
   ],
   "metadata": {
    "collapsed": false
   }
  },
  {
   "cell_type": "code",
   "execution_count": null,
   "outputs": [],
   "source": [
    "# Mean of the ratings\n"
   ],
   "metadata": {
    "collapsed": false
   }
  }
 ],
 "metadata": {
  "kernelspec": {
   "display_name": "Python 3",
   "language": "python",
   "name": "python3"
  },
  "language_info": {
   "codemirror_mode": {
    "name": "ipython",
    "version": 2
   },
   "file_extension": ".py",
   "mimetype": "text/x-python",
   "name": "python",
   "nbconvert_exporter": "python",
   "pygments_lexer": "ipython2",
   "version": "2.7.6"
  }
 },
 "nbformat": 4,
 "nbformat_minor": 0
}
